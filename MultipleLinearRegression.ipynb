{
 "cells": [
  {
   "cell_type": "markdown",
   "metadata": {},
   "source": [
    "<h1>Linear Regression on King's County Housing Data</h1>\n",
    "<p>Here, I will show you how to predict house prices based on multiple features using linear regression. I will be building <b>gradient descent from scratch</b>. Let's begin</p>"
   ]
  },
  {
   "cell_type": "markdown",
   "metadata": {},
   "source": [
    "<h3>Libraries used</h3>\n",
    "<ul>\n",
    "    <li>Numpy, for effective list manipulation</li>\n",
    "    <li>csv, for reading the dataset</li>\n",
    "    <li>Matplotlib, for data visualization</li>"
   ]
  },
  {
   "cell_type": "code",
   "execution_count": 7,
   "metadata": {},
   "outputs": [],
   "source": [
    "import numpy as np\n",
    "import csv\n",
    "import matplotlib.pyplot as plt"
   ]
  },
  {
   "cell_type": "markdown",
   "metadata": {},
   "source": [
    "<h2>Fetching the dataset</h2>\n",
    "<p>We will be using the King's Country Housing dataset obtained from Kaggle. Using the csv.reader() function, we read the data from the dataset, separate the header labels and feature data from it and store it in different variables."
   ]
  },
  {
   "cell_type": "code",
   "execution_count": 8,
   "metadata": {},
   "outputs": [
    {
     "name": "stdout",
     "output_type": "stream",
     "text": [
      "['id', 'date', 'price', 'bedrooms', 'bathrooms', 'sqft_living', 'sqft_lot', 'floors', 'waterfront', 'view', 'condition', 'grade', 'sqft_above', 'sqft_basement', 'yr_built', 'yr_renovated', 'zipcode', 'lat', 'long', 'sqft_living15', 'sqft_lot15']\n"
     ]
    }
   ],
   "source": [
    "dataset = list(csv.reader(open('kc_house_data.csv')))\n",
    "header = dataset[0]\n",
    "dataset = np.array(dataset[1:])\n",
    "\n",
    "print(header) #Features in the dataset"
   ]
  },
  {
   "cell_type": "markdown",
   "metadata": {},
   "source": [
    "<h3>Choosing the features and the labels to be predicted</h3>\n",
    "<p>The features that we'll use to predict the prices (labels) are :</p>\n",
    "<ol>\n",
    "    <li>No. of bedrooms</li>\n",
    "    <li>Sq.ft. living</li>\n",
    "    <li>No. of floors</li>\n",
    "</ol>\n",
    "<p>Moreover, to speed up calculations for gradient descent, I will make each of the feature values in roughly the same range. This can be done by calculating the z-score of each feature value. This technique is known as <b>feature scaling</b> and <b>mean normalization</b>.</p>\n",
    "<p>Also, we visualize a scatter plot between sq.ft.living area and the price of the house repectively</p>"
   ]
  },
  {
   "cell_type": "code",
   "execution_count": 21,
   "metadata": {},
   "outputs": [
    {
     "name": "stdout",
     "output_type": "stream",
     "text": [
      "[[-0.62130183  0.43556968 -0.6230977 ]\n",
      " [-0.62130183  1.6837017  -0.62219977]\n",
      " [-0.62219977  0.06741563 -0.6230977 ]\n",
      " [-0.62040389  1.13596031 -0.6230977 ]\n",
      " [-0.62130183  0.88453803 -0.6230977 ]]\n",
      "(21613, 3)\n"
     ]
    },
    {
     "data": {
      "image/png": "[encoded data removed]",
      "text/plain": [
       "<Figure size 432x288 with 1 Axes>"
      ]
     },
     "metadata": {
      "needs_background": "light"
     },
     "output_type": "display_data"
    }
   ],
   "source": [
    "features = dataset[:,[3,5,7]].astype(float)\n",
    "labels = dataset[:,2].astype(float)\n",
    "features = (features - np.mean(features)) / np.std(features)\n",
    "print(features[:5])\n",
    "print(features.shape)\n",
    "\n",
    "plt.scatter(features[:,1], labels, color=\"green\")\n",
    "plt.xlabel('Normalized sq.ft.living area')\n",
    "plt.ylabel('Price')\n",
    "plt.title('Before Regression')\n",
    "plt.show()"
   ]
  },
  {
   "cell_type": "markdown",
   "metadata": {},
   "source": [
    "<h3>Adding 1's to the feature matrix</h3>\n",
    "<p>We add ones to the feature index 0 for all training examples as this allows us to do matrix operations with theta and x. Hence, making the two vectors 'theta' and 'x(i)' match each other element-wise i.e have the same number of elements.</p>"
   ]
  },
  {
   "cell_type": "code",
   "execution_count": 10,
   "metadata": {},
   "outputs": [
    {
     "name": "stdout",
     "output_type": "stream",
     "text": [
      "[[ 1.         -0.62130183  0.43556968 -0.6230977 ]\n",
      " [ 1.         -0.62130183  1.6837017  -0.62219977]\n",
      " [ 1.         -0.62219977  0.06741563 -0.6230977 ]\n",
      " [ 1.         -0.62040389  1.13596031 -0.6230977 ]\n",
      " [ 1.         -0.62130183  0.88453803 -0.6230977 ]]\n",
      "(21613, 4)\n"
     ]
    }
   ],
   "source": [
    "features = np.column_stack((np.ones(len(labels)), features))\n",
    "print(features[:5])\n",
    "print(features.shape)"
   ]
  },
  {
   "cell_type": "markdown",
   "metadata": {},
   "source": [
    "<h3>Optimizing parameters for our multivariate linear regression</h3>\n",
    "<p>In gradient descent, we estimate the parameters in the hypothesis function that leads to minimization of the cost function. In other words, we try to get the optimal values of theta such that our regression line fits the data well.</p>\n",
    "<p>The way we do this is by taking the derivative (the tangent line to a function) of our cost function. The slope of the tangent is the derivative at that point and it will give us a direction to move towards. We make steps down the cost function in the direction with the steepest descent. The size of each step is determined by the parameter alpha, which is called the learning rate. </p>"
   ]
  },
  {
   "cell_type": "code",
   "execution_count": 13,
   "metadata": {},
   "outputs": [
    {
     "name": "stdout",
     "output_type": "stream",
     "text": [
      "[447765.26853914 447765.26853914 447765.26853914 447765.26853914]\n"
     ]
    }
   ],
   "source": [
    "def calculate_error(theta, x, y):\n",
    "    return np.subtract(np.dot(x, theta), y)\n",
    "\n",
    "def calculate_gradient(cost, x):\n",
    "    return np.sum(np.dot(np.transpose(x), cost)) / x.shape[0]\n",
    "\n",
    "def gradient_descent(x, y, alpha=0.03, epochs=10000):\n",
    "    theta = np.zeros(x.shape[1])\n",
    "    for _ in range(epochs):\n",
    "        cost = calculate_error(theta, x, y)\n",
    "        gradient = calculate_gradient(cost, x)\n",
    "        theta = theta - alpha * gradient\n",
    "    return theta\n",
    "\n",
    "optimized_theta = gradient_descent(features, labels)\n",
    "print(optimized_theta)\n",
    "\n",
    "theta0, theta1 = optimized_theta[0], optimized_theta[2]"
   ]
  },
  {
   "cell_type": "markdown",
   "metadata": {},
   "source": [
    "<h3>Visualizing our regression line after getting the optimal parameters</h3>\n",
    "<p>We get the optimal paramters for which the cost function is zero. Now we choose the first (intercept) and the third (for sq.ft.living) parameter so as to visualize how well the regression line fits to our sq.ft.living v/s price data</p>"
   ]
  },
  {
   "cell_type": "code",
   "execution_count": 20,
   "metadata": {},
   "outputs": [
    {
     "data": {
      "image/png": "[encoded data removed]",
      "text/plain": [
       "<Figure size 432x288 with 1 Axes>"
      ]
     },
     "metadata": {
      "needs_background": "light"
     },
     "output_type": "display_data"
    }
   ],
   "source": [
    "plt.scatter(features[:,1], labels, color=\"green\")\n",
    "plt.plot(features[:,1], theta0 + theta1 * features[:,1], color=\"red\")\n",
    "plt.show()"
   ]
  }
 ],
 "metadata": {
  "kernelspec": {
   "display_name": "Python 3",
   "language": "python",
   "name": "python3"
  },
  "language_info": {
   "codemirror_mode": {
    "name": "ipython",
    "version": 3
   },
   "file_extension": ".py",
   "mimetype": "text/x-python",
   "name": "python",
   "nbconvert_exporter": "python",
   "pygments_lexer": "ipython3",
   "version": "3.7.1"
  }
 },
 "nbformat": 4,
 "nbformat_minor": 2
}
