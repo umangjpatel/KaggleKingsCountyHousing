{
 "cells": [
  {
   "cell_type": "markdown",
   "metadata": {},
   "source": [
    "<h1>Linear Regression on King's County Housing Data</h1>\n",
    "<p>Here, I will show you how to predict house prices based on multiple features using linear regression. I will be building <b>gradient descent from scratch</b>. Let's begin</p>"
   ]
  },
  {
   "cell_type": "markdown",
   "metadata": {},
   "source": [
    "<h3>Libraries used</h3>\n",
    "<ul>\n",
    "    <li>Numpy, for effective list manipulation</li>\n",
    "    <li>Pandas, for reading the dataset</li>\n",
    "    <li>Matplotlib, for data visualization</li>"
   ]
  },
  {
   "cell_type": "code",
   "execution_count": 1,
   "metadata": {},
   "outputs": [],
   "source": [
    "import numpy as np\n",
    "import pandas as pd\n",
    "import matplotlib.pyplot as plt"
   ]
  },
  {
   "cell_type": "markdown",
   "metadata": {},
   "source": [
    "<h2>Fetching the dataset</h2>\n",
    "<p>We will be using the King's Country Housing dataset obtained from Kaggle. Using the csv.reader() function, we read the data from the dataset, separate the header labels and feature data from it and store it in different variables."
   ]
  },
  {
   "cell_type": "code",
   "execution_count": 2,
   "metadata": {},
   "outputs": [
    {
     "name": "stdout",
     "output_type": "stream",
     "text": [
      "           id             date     price  bedrooms  bathrooms  sqft_living  \\\n",
      "0  7129300520  20141013T000000  221900.0         3       1.00         1180   \n",
      "1  6414100192  20141209T000000  538000.0         3       2.25         2570   \n",
      "2  5631500400  20150225T000000  180000.0         2       1.00          770   \n",
      "3  2487200875  20141209T000000  604000.0         4       3.00         1960   \n",
      "4  1954400510  20150218T000000  510000.0         3       2.00         1680   \n",
      "\n",
      "   sqft_lot  floors  waterfront  view     ...      grade  sqft_above  \\\n",
      "0      5650     1.0           0     0     ...          7        1180   \n",
      "1      7242     2.0           0     0     ...          7        2170   \n",
      "2     10000     1.0           0     0     ...          6         770   \n",
      "3      5000     1.0           0     0     ...          7        1050   \n",
      "4      8080     1.0           0     0     ...          8        1680   \n",
      "\n",
      "   sqft_basement  yr_built  yr_renovated  zipcode      lat     long  \\\n",
      "0              0      1955             0    98178  47.5112 -122.257   \n",
      "1            400      1951          1991    98125  47.7210 -122.319   \n",
      "2              0      1933             0    98028  47.7379 -122.233   \n",
      "3            910      1965             0    98136  47.5208 -122.393   \n",
      "4              0      1987             0    98074  47.6168 -122.045   \n",
      "\n",
      "   sqft_living15  sqft_lot15  \n",
      "0           1340        5650  \n",
      "1           1690        7639  \n",
      "2           2720        8062  \n",
      "3           1360        5000  \n",
      "4           1800        7503  \n",
      "\n",
      "[5 rows x 21 columns]\n"
     ]
    }
   ],
   "source": [
    "dataset = pd.read_csv('kc_house_data.csv')\n",
    "print(dataset.head())\n",
    "dataset = dataset.values"
   ]
  },
  {
   "cell_type": "markdown",
   "metadata": {},
   "source": [
    "<h3>Choosing the features and the labels to be predicted</h3>\n",
    "<p>The features that we'll use to predict the prices (labels) are :</p>\n",
    "<ol>\n",
    "    <li>No. of bedrooms</li>\n",
    "    <li>Sq.ft. living</li>\n",
    "    <li>No. of floors</li>\n",
    "</ol>\n",
    "<p>Moreover, to speed up calculations for gradient descent, I will make each of the feature values in roughly the same range. This can be done by calculating the z-score of each feature value. This technique is known as <b>feature scaling</b> and <b>mean normalization</b>.</p>\n",
    "<p>Also, we visualize a scatter plot between sq.ft.living area and the price of the house repectively</p>"
   ]
  },
  {
   "cell_type": "code",
   "execution_count": 3,
   "metadata": {},
   "outputs": [
    {
     "name": "stdout",
     "output_type": "stream",
     "text": [
      "[[-0.39873715 -0.97983502 -0.915427  ]\n",
      " [-0.39873715  0.53363434  0.93650577]\n",
      " [-1.47395936 -1.42625404 -0.915427  ]\n",
      " [ 0.67648506 -0.13055006 -0.915427  ]\n",
      " [-0.39873715 -0.43542158 -0.915427  ]]\n",
      "(21613, 3)\n"
     ]
    },
    {
     "data": {
      "image/png": "[encoded data removed]",
      "text/plain": [
       "<Figure size 432x288 with 1 Axes>"
      ]
     },
     "metadata": {
      "needs_background": "light"
     },
     "output_type": "display_data"
    }
   ],
   "source": [
    "features = dataset[:,[3,5,7]].astype(float)\n",
    "labels = dataset[:,2].astype(float)\n",
    "old_features = np.copy(features)\n",
    "\n",
    "bed_feature, sqft_feature, floor_feature = features[:,0], features[:,1], features[:,2]\n",
    "bed_feature = (bed_feature - np.mean(bed_feature)) / np.std(bed_feature)\n",
    "sqft_feature = (sqft_feature - np.mean(sqft_feature)) / np.std(sqft_feature)\n",
    "floor_feature = (floor_feature - np.mean(floor_feature)) / np.std(floor_feature)\n",
    "\n",
    "features = np.column_stack((bed_feature, sqft_feature, floor_feature))\n",
    "\n",
    "print(features[:5])\n",
    "print(features.shape)\n",
    "\n",
    "plt.scatter(old_features[:,1], labels, color=\"green\")\n",
    "plt.xlabel('Sq.ft.living area')\n",
    "plt.ylabel('Price')\n",
    "plt.title('Before Regression')\n",
    "plt.show()"
   ]
  },
  {
   "cell_type": "markdown",
   "metadata": {},
   "source": [
    "<h3>Adding 1's to the feature matrix</h3>\n",
    "<p>We add ones to the feature index 0 for all training examples as this allows us to do matrix operations with theta and x. Hence, making the two vectors 'theta' and 'x(i)' match each other element-wise i.e have the same number of elements.</p>"
   ]
  },
  {
   "cell_type": "code",
   "execution_count": 4,
   "metadata": {},
   "outputs": [
    {
     "name": "stdout",
     "output_type": "stream",
     "text": [
      "[[ 1.         -0.39873715 -0.97983502 -0.915427  ]\n",
      " [ 1.         -0.39873715  0.53363434  0.93650577]\n",
      " [ 1.         -1.47395936 -1.42625404 -0.915427  ]\n",
      " [ 1.          0.67648506 -0.13055006 -0.915427  ]\n",
      " [ 1.         -0.39873715 -0.43542158 -0.915427  ]]\n",
      "(21613, 4)\n"
     ]
    }
   ],
   "source": [
    "features = np.column_stack((np.ones(len(labels)), features))\n",
    "print(features[:5])\n",
    "print(features.shape)"
   ]
  },
  {
   "cell_type": "markdown",
   "metadata": {},
   "source": [
    "<h3>Optimizing parameters for our multivariate linear regression</h3>\n",
    "<p>In gradient descent, we estimate the parameters in the hypothesis function that leads to minimization of the cost function. In other words, we try to get the optimal values of theta such that our regression line fits the data well.</p>\n",
    "<p>The way we do this is by taking the derivative (the tangent line to a function) of our cost function. The slope of the tangent is the derivative at that point and it will give us a direction to move towards. We make steps down the cost function in the direction with the steepest descent. The size of each step is determined by the parameter alpha, which is called the learning rate. </p>"
   ]
  },
  {
   "cell_type": "code",
   "execution_count": 5,
   "metadata": {},
   "outputs": [
    {
     "name": "stdout",
     "output_type": "stream",
     "text": [
      "[540.90038743 113.98533479 257.7580108   95.20879831]\n"
     ]
    }
   ],
   "source": [
    "def gradient_descent(x, y, alpha=0.001):\n",
    "    m = y.shape[0]\n",
    "    theta = np.random.rand(x.shape[1])\n",
    "    prev_cost = 1e10 \n",
    "    run = True\n",
    "    while run:\n",
    "        prediction = np.dot(x, theta)   #predicted y values theta_0*x0+theta_1*x1\n",
    "        error = prediction - y\n",
    "        cost = 1/(2*m) * np.dot(error.T, error)   #  (1/2m)*sum[(error)^2]\n",
    "        theta = theta - (alpha * (1/m) * np.dot(x.T, error))   # alpha * (1/m) * sum[error*x]\n",
    "        if prev_cost - cost < 1e-9:   #checking if the change in cost function is less than 10^(-9)\n",
    "            run = False\n",
    "    return theta\n",
    "\n",
    "init_theta = np.ones(features.shape[1])\n",
    "optimized_theta = gradient_descent(features, labels)\n",
    "print(optimized_theta)\n",
    "\n",
    "theta0, theta1 = optimized_theta[0], optimized_theta[2]"
   ]
  },
  {
   "cell_type": "markdown",
   "metadata": {},
   "source": [
    "<h3>Visualizing our regression line after getting the optimal parameters</h3>\n",
    "<p>We get the optimal paramters for which the cost function is zero. Now we choose the first (intercept) and the third (for sq.ft.living) parameter so as to visualize how well the regression line fits to our sq.ft.living v/s price data</p>"
   ]
  },
  {
   "cell_type": "code",
   "execution_count": 6,
   "metadata": {},
   "outputs": [
    {
     "data": {
      "image/png": "[encoded data removed]",
      "text/plain": [
       "<Figure size 432x288 with 1 Axes>"
      ]
     },
     "metadata": {
      "needs_background": "light"
     },
     "output_type": "display_data"
    }
   ],
   "source": [
    "plt.scatter(old_features[:,1], labels, color=\"green\")\n",
    "plt.plot(old_features[:,1], theta0 + theta1 * old_features[:,1], color=\"red\")\n",
    "plt.xlabel('Sq.ft.living')\n",
    "plt.ylabel('Price')\n",
    "plt.title('After Regression')\n",
    "plt.show()"
   ]
  }
 ],
 "metadata": {
  "kernelspec": {
   "display_name": "Python 3",
   "language": "python",
   "name": "python3"
  },
  "language_info": {
   "codemirror_mode": {
    "name": "ipython",
    "version": 3
   },
   "file_extension": ".py",
   "mimetype": "text/x-python",
   "name": "python",
   "nbconvert_exporter": "python",
   "pygments_lexer": "ipython3",
   "version": "3.7.1"
  }
 },
 "nbformat": 4,
 "nbformat_minor": 2
}
