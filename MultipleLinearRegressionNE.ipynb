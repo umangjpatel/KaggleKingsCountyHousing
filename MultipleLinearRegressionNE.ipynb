{
 "cells": [
  {
   "cell_type": "markdown",
   "metadata": {},
   "source": [
    "<h1>Linear Regression on King's County Housing Data</h1>\n",
    "<p>Here, I will show you how to predict house prices based on multiple features using linear regression. I will be building <b>normal equation from scratch</b>. Let's begin</p>"
   ]
  },
  {
   "cell_type": "markdown",
   "metadata": {},
   "source": [
    "<h3>Libraries used</h3>\n",
    "<ul>\n",
    "    <li>NumPy, for effective list manipulation</li>\n",
    "    <li>Pandas, for reading the dataset</li>\n",
    "    <li>Matplotlib, for data visualization</li>"
   ]
  },
  {
   "cell_type": "code",
   "execution_count": 1,
   "metadata": {},
   "outputs": [],
   "source": [
    "import numpy as np\n",
    "import pandas as pd\n",
    "import matplotlib.pyplot as plt"
   ]
  },
  {
   "cell_type": "markdown",
   "metadata": {},
   "source": [
    "<h2>Fetching the dataset</h2>\n",
    "<p>We will be using the King's Country Housing dataset obtained from Kaggle. Using the pd.read_csv() function, we read the data from the dataset, separate the header labels and feature data from it and store it in different variables.</p>"
   ]
  },
  {
   "cell_type": "code",
   "execution_count": 2,
   "metadata": {},
   "outputs": [
    {
     "name": "stdout",
     "output_type": "stream",
     "text": [
      "           id             date     price  bedrooms  bathrooms  sqft_living  \\\n",
      "0  7129300520  20141013T000000  221900.0         3       1.00         1180   \n",
      "1  6414100192  20141209T000000  538000.0         3       2.25         2570   \n",
      "2  5631500400  20150225T000000  180000.0         2       1.00          770   \n",
      "3  2487200875  20141209T000000  604000.0         4       3.00         1960   \n",
      "4  1954400510  20150218T000000  510000.0         3       2.00         1680   \n",
      "\n",
      "   sqft_lot  floors  waterfront  view     ...      grade  sqft_above  \\\n",
      "0      5650     1.0           0     0     ...          7        1180   \n",
      "1      7242     2.0           0     0     ...          7        2170   \n",
      "2     10000     1.0           0     0     ...          6         770   \n",
      "3      5000     1.0           0     0     ...          7        1050   \n",
      "4      8080     1.0           0     0     ...          8        1680   \n",
      "\n",
      "   sqft_basement  yr_built  yr_renovated  zipcode      lat     long  \\\n",
      "0              0      1955             0    98178  47.5112 -122.257   \n",
      "1            400      1951          1991    98125  47.7210 -122.319   \n",
      "2              0      1933             0    98028  47.7379 -122.233   \n",
      "3            910      1965             0    98136  47.5208 -122.393   \n",
      "4              0      1987             0    98074  47.6168 -122.045   \n",
      "\n",
      "   sqft_living15  sqft_lot15  \n",
      "0           1340        5650  \n",
      "1           1690        7639  \n",
      "2           2720        8062  \n",
      "3           1360        5000  \n",
      "4           1800        7503  \n",
      "\n",
      "[5 rows x 21 columns]\n"
     ]
    }
   ],
   "source": [
    "dataset = pd.read_csv('kc_house_data.csv')\n",
    "print(dataset.head())"
   ]
  },
  {
   "cell_type": "markdown",
   "metadata": {},
   "source": [
    "<h3>Choosing the features and the labels to be predicted</h3>\n",
    "<p>The features that we'll use to predict the prices (labels) are :</p>\n",
    "<ol>\n",
    "    <li>No. of bedrooms</li>\n",
    "    <li>Sq.ft. living</li>\n",
    "    <li>No. of floors</li>\n",
    "</ol>\n",
    "<p>We will visualize a scatter plot between sq.ft.living area and the price of the house repectively</p>"
   ]
  },
  {
   "cell_type": "code",
   "execution_count": 3,
   "metadata": {},
   "outputs": [
    {
     "data": {
      "image/png": "[encoded data removed]",
      "text/plain": [
       "<Figure size 432x288 with 1 Axes>"
      ]
     },
     "metadata": {
      "needs_background": "light"
     },
     "output_type": "display_data"
    }
   ],
   "source": [
    "features = dataset.loc[:, ['bedrooms','sqft_living','floors']].values\n",
    "labels = dataset['price'].values\n",
    "\n",
    "plt.scatter(features[:,1], labels, color=\"green\")\n",
    "plt.xlabel('Sq.ft. living')\n",
    "plt.ylabel('Price in $')\n",
    "plt.title('Sq.ft vs Price')\n",
    "plt.show()"
   ]
  },
  {
   "cell_type": "markdown",
   "metadata": {},
   "source": [
    "<h3>Adding 1's to the feature matrix</h3>\n",
    "<p>We add ones to the feature index 0 for all training examples as this allows us to do matrix operations with theta and x. Hence, making the two vectors 'theta' and 'x(i)' match each other element-wise i.e have the same number of elements.</p>"
   ]
  },
  {
   "cell_type": "code",
   "execution_count": 4,
   "metadata": {},
   "outputs": [
    {
     "name": "stdout",
     "output_type": "stream",
     "text": [
      "[[1.000e+00 3.000e+00 1.180e+03 1.000e+00]\n",
      " [1.000e+00 3.000e+00 2.570e+03 2.000e+00]\n",
      " [1.000e+00 2.000e+00 7.700e+02 1.000e+00]\n",
      " [1.000e+00 4.000e+00 1.960e+03 1.000e+00]\n",
      " [1.000e+00 3.000e+00 1.680e+03 1.000e+00]\n",
      " [1.000e+00 4.000e+00 5.420e+03 1.000e+00]\n",
      " [1.000e+00 3.000e+00 1.715e+03 2.000e+00]\n",
      " [1.000e+00 3.000e+00 1.060e+03 1.000e+00]\n",
      " [1.000e+00 3.000e+00 1.780e+03 1.000e+00]\n",
      " [1.000e+00 3.000e+00 1.890e+03 2.000e+00]]\n",
      "(21613, 4)\n"
     ]
    }
   ],
   "source": [
    "features = np.column_stack((np.ones(len(labels)), features))\n",
    "print(features[:10])\n",
    "print(features.shape)"
   ]
  },
  {
   "cell_type": "markdown",
   "metadata": {},
   "source": [
    "<h3>Finding optimal parameters for our regression line</h3>\n",
    "<p>Gradient descent gives us one way of minimizing the cost function. There's a second way of doing so, this time performing the minimization explicitly without resorting to an iterative algorithm.</p>\n",
    "<p>In the <b>\"Normal Equation\"</b> method, we will minimize the cost function by explicitly taking the derivatives with respect to the theta and setting them to 0.</p>\n",
    "<p>This allows us to find the optimum theta without iteration. The normal equation formula is given below</p>\n",
    "<p>theta = (X<sup>T</sup>.X)<sup>-1</sup>.X<sup>T</sup>.y</p>\n",
    "<p>There is no need to do <b>feature scaling</b> with the normal equation</p>\n",
    "    <p>With the normal equation, computing the inverse has the time complexity O(n<sup>3</sup>). So if we have a very large number of features, the normal equation will be slow. In practice, when number of features exceeds 10,000 it might be a good time to go from normal equation to an iterative process like gradient descent.</p>"
   ]
  },
  {
   "cell_type": "code",
   "execution_count": 5,
   "metadata": {},
   "outputs": [
    {
     "name": "stdout",
     "output_type": "stream",
     "text": [
      "[ 75856.12494116 -56985.92483622    313.22728382   3239.7578125 ]\n"
     ]
    }
   ],
   "source": [
    "theta = np.dot(np.linalg.inv(np.dot(np.transpose(features), features)), np.dot(np.transpose(features), labels))\n",
    "print(theta)\n",
    "\n",
    "theta0, theta1 = theta[0], theta[2]"
   ]
  },
  {
   "cell_type": "markdown",
   "metadata": {},
   "source": [
    "<h3>Visualizing our regression line after getting the optimal parameters</h3>\n",
    "<p>We get the optimal paramters for which the cost function is zero. Now we choose the first (intercept) and the third (for sq.ft.living) parameter so as to visualize how well the regression line fits to our sq.ft.living v/s price data</p>"
   ]
  },
  {
   "cell_type": "code",
   "execution_count": 6,
   "metadata": {},
   "outputs": [
    {
     "data": {
      "image/png": "[encoded data removed]",
      "text/plain": [
       "<Figure size 432x288 with 1 Axes>"
      ]
     },
     "metadata": {
      "needs_background": "light"
     },
     "output_type": "display_data"
    }
   ],
   "source": [
    "plt.scatter(features[:,2], labels, color=\"green\")\n",
    "plt.plot(features[:,2], theta0 + theta1 * features[:,2], color=\"red\")\n",
    "plt.xlabel('Sq.ft. living')\n",
    "plt.ylabel('Price in $')\n",
    "plt.title('Sq.ft. v/s Price')\n",
    "plt.show()"
   ]
  }
 ],
 "metadata": {
  "kernelspec": {
   "display_name": "Python 3",
   "language": "python",
   "name": "python3"
  },
  "language_info": {
   "codemirror_mode": {
    "name": "ipython",
    "version": 3
   },
   "file_extension": ".py",
   "mimetype": "text/x-python",
   "name": "python",
   "nbconvert_exporter": "python",
   "pygments_lexer": "ipython3",
   "version": "3.7.1"
  }
 },
 "nbformat": 4,
 "nbformat_minor": 2
}
